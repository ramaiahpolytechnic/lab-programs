{
  "nbformat": 4,
  "nbformat_minor": 0,
  "metadata": {
    "colab": {
      "provenance": []
    },
    "kernelspec": {
      "name": "python3",
      "display_name": "Python 3"
    },
    "language_info": {
      "name": "python"
    }
  },
  "cells": [
    {
      "cell_type": "markdown",
      "source": [
        "## **Progrram 11**\n",
        "### **Considering Sample text perform**\n",
        "\n",
        "a. Sentence Tokenization & Word Tokenization by removing Punctions\n",
        "\n",
        "b. Visualizing Frequency Distributions of Words\n",
        "\n",
        "c. Genterating N Grams\n",
        "\n",
        "d. Sentence Normalization(Stemming, lemmatization)"
      ],
      "metadata": {
        "id": "fX6x_t5-4HnX"
      }
    },
    {
      "cell_type": "markdown",
      "source": [
        "**Downloading nltk library**"
      ],
      "metadata": {
        "id": "Q_szQUx93tOA"
      }
    },
    {
      "cell_type": "code",
      "source": [
        "!pip install nltk\n",
        "import nltk\n",
        "\n",
        "nltk.download(\"all\")"
      ],
      "metadata": {
        "id": "UrwaEVEhHBGJ"
      },
      "execution_count": null,
      "outputs": []
    },
    {
      "cell_type": "markdown",
      "source": [
        "## **a. Sentence and word Tokenization**"
      ],
      "metadata": {
        "id": "uSBRE4dh5cRr"
      }
    },
    {
      "cell_type": "code",
      "source": [
        "text = \"\"\"A computer learns from the experience \"E\".\n",
        "          with respect to some set of task \"T\".\n",
        "          and performance measure \"P\".\n",
        "          if its perfomance on \"T\".\n",
        "         is measured by \"P\".\n",
        "          imporves with experience \"E\" \"\"\""
      ],
      "metadata": {
        "id": "bLJSOt115o-D"
      },
      "execution_count": null,
      "outputs": []
    },
    {
      "cell_type": "code",
      "source": [
        "## Sentence Tokenization\n",
        "\n",
        "from nltk.tokenize import sent_tokenize\n",
        "\n",
        "tokenised_sentence = sent_tokenize(text)\n",
        "print(\"Length of Tokenised Sentences : \",len(tokenised_sentence))\n",
        "tokenised_sentence"
      ],
      "metadata": {
        "colab": {
          "base_uri": "https://localhost:8080/"
        },
        "id": "Sc4qhA966jlB",
        "outputId": "abb07ad3-02b0-4e93-8ebb-df6d13935c30"
      },
      "execution_count": null,
      "outputs": [
        {
          "output_type": "stream",
          "name": "stdout",
          "text": [
            "Length of Tokenised Sentences :  6\n"
          ]
        },
        {
          "output_type": "execute_result",
          "data": {
            "text/plain": [
              "['A computer learns from the experience \"E\".',\n",
              " 'with respect to some set of task \"T\".',\n",
              " 'and performance measure \"P\".',\n",
              " 'if its perfomance on \"T\".',\n",
              " 'is measured by \"P\".',\n",
              " 'imporves with experience \"E\"']"
            ]
          },
          "metadata": {},
          "execution_count": 66
        }
      ]
    },
    {
      "cell_type": "code",
      "source": [
        "## Word Tokenization by removing Punctions\n",
        "\n",
        "from nltk.tokenize import RegexpTokenizer\n",
        "\n",
        "tokenizer = RegexpTokenizer(r'\\w+')\n",
        "word_tokenised = tokenizer.tokenize(text)\n",
        "print(\"Length of words : \",len(word_tokenised))\n",
        "word_tokenised"
      ],
      "metadata": {
        "colab": {
          "base_uri": "https://localhost:8080/"
        },
        "id": "iJ_2ABQd8Qx7",
        "outputId": "6b92e104-4e72-426b-d1a8-fe07808dd4a3"
      },
      "execution_count": null,
      "outputs": [
        {
          "output_type": "stream",
          "name": "stdout",
          "text": [
            "Length of words :  32\n"
          ]
        },
        {
          "output_type": "execute_result",
          "data": {
            "text/plain": [
              "['A',\n",
              " 'computer',\n",
              " 'learns',\n",
              " 'from',\n",
              " 'the',\n",
              " 'experience',\n",
              " 'E',\n",
              " 'with',\n",
              " 'respect',\n",
              " 'to',\n",
              " 'some',\n",
              " 'set',\n",
              " 'of',\n",
              " 'task',\n",
              " 'T',\n",
              " 'and',\n",
              " 'performance',\n",
              " 'measure',\n",
              " 'P',\n",
              " 'if',\n",
              " 'its',\n",
              " 'perfomance',\n",
              " 'on',\n",
              " 'T',\n",
              " 'is',\n",
              " 'measured',\n",
              " 'by',\n",
              " 'P',\n",
              " 'imporves',\n",
              " 'with',\n",
              " 'experience',\n",
              " 'E']"
            ]
          },
          "metadata": {},
          "execution_count": 73
        }
      ]
    },
    {
      "cell_type": "markdown",
      "source": [
        "## **b. Visualizing Frequency Distribution of words**"
      ],
      "metadata": {
        "id": "-TjmEmpm-izd"
      }
    },
    {
      "cell_type": "code",
      "source": [
        "from nltk.probability import FreqDbist\n",
        "import matplotlib.pyplot as plt\n",
        "\n",
        "freq_dist = FreqDist(word_tokenised)\n",
        "x = freq_dist.most_common(10)\n",
        "print(x)\n",
        "\n",
        "## Graph\n",
        "freq_dist.plot(10)\n",
        "plt.show()"
      ],
      "metadata": {
        "colab": {
          "base_uri": "https://localhost:8080/",
          "height": 529
        },
        "id": "4rMDD3fd_pdb",
        "outputId": "e82abdc7-87aa-4792-d89a-abd24d534b40"
      },
      "execution_count": null,
      "outputs": [
        {
          "output_type": "stream",
          "name": "stdout",
          "text": [
            "[('experience', 2), ('E', 2), ('with', 2), ('T', 2), ('P', 2), ('A', 1), ('computer', 1), ('learns', 1), ('from', 1), ('the', 1)]\n"
          ]
        },
        {
          "output_type": "display_data",
          "data": {
            "text/plain": [
              "<Figure size 640x480 with 1 Axes>"
            ],
            "image/png": "[encoded data removed]"
          },
          "metadata": {}
        }
      ]
    },
    {
      "cell_type": "markdown",
      "source": [
        "## **c. Genetrating N-grams**"
      ],
      "metadata": {
        "id": "NbCo_qbJA6v4"
      }
    },
    {
      "cell_type": "code",
      "source": [
        "from nltk.util import ngrams\n",
        "\n",
        "tri_grams = set(ngrams(word_tokenised,3))\n",
        "print(\"Length of tri-grams : \",len(tri_grams))\n",
        "tri_grams"
      ],
      "metadata": {
        "colab": {
          "base_uri": "https://localhost:8080/"
        },
        "id": "OmVIjmmGCNMY",
        "outputId": "35fa148d-e756-4540-8ce5-11da444a47fa"
      },
      "execution_count": null,
      "outputs": [
        {
          "output_type": "stream",
          "name": "stdout",
          "text": [
            "Length od tri-grams :  30\n"
          ]
        },
        {
          "output_type": "execute_result",
          "data": {
            "text/plain": [
              "{('A', 'computer', 'learns'),\n",
              " ('E', 'with', 'respect'),\n",
              " ('P', 'if', 'its'),\n",
              " ('P', 'imporves', 'with'),\n",
              " ('T', 'and', 'performance'),\n",
              " ('T', 'is', 'measured'),\n",
              " ('and', 'performance', 'measure'),\n",
              " ('by', 'P', 'imporves'),\n",
              " ('computer', 'learns', 'from'),\n",
              " ('experience', 'E', 'with'),\n",
              " ('from', 'the', 'experience'),\n",
              " ('if', 'its', 'perfomance'),\n",
              " ('imporves', 'with', 'experience'),\n",
              " ('is', 'measured', 'by'),\n",
              " ('its', 'perfomance', 'on'),\n",
              " ('learns', 'from', 'the'),\n",
              " ('measure', 'P', 'if'),\n",
              " ('measured', 'by', 'P'),\n",
              " ('of', 'task', 'T'),\n",
              " ('on', 'T', 'is'),\n",
              " ('perfomance', 'on', 'T'),\n",
              " ('performance', 'measure', 'P'),\n",
              " ('respect', 'to', 'some'),\n",
              " ('set', 'of', 'task'),\n",
              " ('some', 'set', 'of'),\n",
              " ('task', 'T', 'and'),\n",
              " ('the', 'experience', 'E'),\n",
              " ('to', 'some', 'set'),\n",
              " ('with', 'experience', 'E'),\n",
              " ('with', 'respect', 'to')}"
            ]
          },
          "metadata": {},
          "execution_count": 78
        }
      ]
    },
    {
      "cell_type": "markdown",
      "source": [
        "## **d. Sentence Normalization(Stemming,lemmatization)**"
      ],
      "metadata": {
        "id": "3o3ZGNjMDPO3"
      }
    },
    {
      "cell_type": "markdown",
      "source": [
        "**Stemming**"
      ],
      "metadata": {
        "id": "OIZ0vQ-OD3qR"
      }
    },
    {
      "cell_type": "code",
      "source": [
        "from nltk.stem import PorterStemmer\n",
        "\n",
        "ps = PorterStemmer()\n",
        "list_1 = [\"runner\",\"gaining\",\"fairly\",\"running\",\"runs\",\"easily\"]\n",
        "\n",
        "for word in list_1:\n",
        "  print(word,\"  stemmed word ---->\",ps.stem(word))"
      ],
      "metadata": {
        "colab": {
          "base_uri": "https://localhost:8080/"
        },
        "id": "_rocGNVuD6IL",
        "outputId": "c9d09611-de52-4ea4-ea84-5a6a22e35818"
      },
      "execution_count": null,
      "outputs": [
        {
          "output_type": "stream",
          "name": "stdout",
          "text": [
            "runner   stemmed word ----> runner\n",
            "gaining   stemmed word ----> gain\n",
            "fairly   stemmed word ----> fairli\n",
            "running   stemmed word ----> run\n",
            "runs   stemmed word ----> run\n",
            "easily   stemmed word ----> easili\n"
          ]
        }
      ]
    },
    {
      "cell_type": "markdown",
      "source": [
        "**Lemmatization**"
      ],
      "metadata": {
        "id": "BUJAZPqvFMK7"
      }
    },
    {
      "cell_type": "code",
      "source": [
        "from nltk.stem import WordNetLemmatizer\n",
        "\n",
        "lemma = WordNetLemmatizer()\n",
        "list_2 = [\"dogs\",\"babies\",\"elephants\",\"foot\",\"horses\",\"deers\",\"better\"]\n",
        "\n",
        "for word in list_2:\n",
        "  print(word,\"  lemma word ---->\",lemma.lemmatize(word))"
      ],
      "metadata": {
        "colab": {
          "base_uri": "https://localhost:8080/"
        },
        "id": "EjVGXLbjGHx7",
        "outputId": "299ad282-4c2c-416e-a1fb-7b6c488335b4"
      },
      "execution_count": null,
      "outputs": [
        {
          "output_type": "stream",
          "name": "stdout",
          "text": [
            "dogs   lemma word ----> dog\n",
            "babies   lemma word ----> baby\n",
            "elephants   lemma word ----> elephant\n",
            "foot   lemma word ----> foot\n",
            "horses   lemma word ----> horse\n",
            "deers   lemma word ----> deer\n",
            "better   lemma word ----> better\n"
          ]
        }
      ]
    },
    {
      "cell_type": "code",
      "source": [
        "sent = \"\"\"The greatest glory in living lies in never falling, but in rising every time we fall\"\"\"\n",
        "\n",
        "from nltk.util import ngrams\n",
        "## bi-grams\n",
        "bi_grams = ngrams(sent.split(),2)\n",
        "\n",
        "for i in bi_grams:\n",
        "  print(i)"
      ],
      "metadata": {
        "colab": {
          "base_uri": "https://localhost:8080/"
        },
        "id": "2fxA2YniGdUZ",
        "outputId": "75af287d-ef21-48cc-af74-52a636ac38cf"
      },
      "execution_count": null,
      "outputs": [
        {
          "output_type": "stream",
          "name": "stdout",
          "text": [
            "('The', 'greatest')\n",
            "('greatest', 'glory')\n",
            "('glory', 'in')\n",
            "('in', 'living')\n",
            "('living', 'lies')\n",
            "('lies', 'in')\n",
            "('in', 'never')\n",
            "('never', 'falling,')\n",
            "('falling,', 'but')\n",
            "('but', 'in')\n",
            "('in', 'rising')\n",
            "('rising', 'every')\n",
            "('every', 'time')\n",
            "('time', 'we')\n",
            "('we', 'fall')\n"
          ]
        }
      ]
    },
    {
      "cell_type": "code",
      "source": [
        "tri_grams = ngrams(sent.split(),3)\n",
        "\n",
        "for i in tri_grams:\n",
        "  print(i)"
      ],
      "metadata": {
        "colab": {
          "base_uri": "https://localhost:8080/"
        },
        "id": "gqYlosbJViHW",
        "outputId": "00881703-86dc-4a5e-d6fd-1692f5e48d8a"
      },
      "execution_count": null,
      "outputs": [
        {
          "output_type": "stream",
          "name": "stdout",
          "text": [
            "('The', 'greatest', 'glory')\n",
            "('greatest', 'glory', 'in')\n",
            "('glory', 'in', 'living')\n",
            "('in', 'living', 'lies')\n",
            "('living', 'lies', 'in')\n",
            "('lies', 'in', 'never')\n",
            "('in', 'never', 'falling,')\n",
            "('never', 'falling,', 'but')\n",
            "('falling,', 'but', 'in')\n",
            "('but', 'in', 'rising')\n",
            "('in', 'rising', 'every')\n",
            "('rising', 'every', 'time')\n",
            "('every', 'time', 'we')\n",
            "('time', 'we', 'fall')\n"
          ]
        }
      ]
    },
    {
      "cell_type": "code",
      "source": [],
      "metadata": {
        "id": "jq_ZM1MEXgca"
      },
      "execution_count": null,
      "outputs": []
    }
  ]
}